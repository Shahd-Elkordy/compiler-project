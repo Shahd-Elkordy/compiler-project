{
 "cells": [
  {
   "cell_type": "code",
   "execution_count": 1,
   "id": "bf76f7d4",
   "metadata": {},
   "outputs": [
    {
     "name": "stdout",
     "output_type": "stream",
     "text": [
      "Enter an expression for syntax analysis: 2 + 3 * (4 - 1)\n",
      "Syntax analysis successful. Parsed expression:\n",
      "Expression(\n",
      "    body=BinOp(\n",
      "        left=Constant(value=2),\n",
      "        op=Add(),\n",
      "        right=BinOp(\n",
      "            left=Constant(value=3),\n",
      "            op=Mult(),\n",
      "            right=BinOp(\n",
      "                left=Constant(value=4),\n",
      "                op=Sub(),\n",
      "                right=Constant(value=1)))))\n"
     ]
    }
   ],
   "source": [
    "import ast\n",
    "\n",
    "def analyze_syntax(expression):\n",
    "    try:\n",
    "        # Parse the expression\n",
    "        parsed_expression = ast.parse(expression, mode='eval')\n",
    "\n",
    "        # If parsing is successful, print the parsed expression\n",
    "        print(\"Syntax analysis successful. Parsed expression:\")\n",
    "        print(ast.dump(parsed_expression, indent=4))\n",
    "    except SyntaxError as e:\n",
    "        # If there's a syntax error, print the error message\n",
    "        print(f\"Syntax error: {e}\")\n",
    "\n",
    "# Get user input\n",
    "user_input = input(\"Enter an expression for syntax analysis: \")\n",
    "\n",
    "# Perform syntax analysis\n",
    "analyze_syntax(user_input)"
   ]
  },
  {
   "cell_type": "code",
   "execution_count": null,
   "id": "1e9363e9",
   "metadata": {},
   "outputs": [],
   "source": []
  },
  {
   "cell_type": "code",
   "execution_count": null,
   "id": "f60dd968",
   "metadata": {},
   "outputs": [],
   "source": []
  }
 ],
 "metadata": {
  "kernelspec": {
   "display_name": "Python 3 (ipykernel)",
   "language": "python",
   "name": "python3"
  },
  "language_info": {
   "codemirror_mode": {
    "name": "ipython",
    "version": 3
   },
   "file_extension": ".py",
   "mimetype": "text/x-python",
   "name": "python",
   "nbconvert_exporter": "python",
   "pygments_lexer": "ipython3",
   "version": "3.9.13"
  }
 },
 "nbformat": 4,
 "nbformat_minor": 5
}
