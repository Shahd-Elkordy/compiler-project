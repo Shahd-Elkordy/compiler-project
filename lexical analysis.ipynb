{
 "cells": [
  {
   "cell_type": "code",
   "execution_count": 5,
   "id": "9ac79a21",
   "metadata": {},
   "outputs": [
    {
     "name": "stdout",
     "output_type": "stream",
     "text": [
      "Enter a code snippet: 3 + 5 * (10 - 2)\n",
      "Tokens:\n",
      "('NUMBER', '3')\n",
      "('OPERATOR', '+')\n",
      "('NUMBER', '5')\n",
      "('OPERATOR', '*')\n",
      "('special characters', '(')\n",
      "('NUMBER', '10')\n",
      "('OPERATOR', '-')\n",
      "('NUMBER', '2')\n",
      "('special characters', ')')\n"
     ]
    }
   ],
   "source": [
    "import re\n",
    "\n",
    "# Define the token types\n",
    "TOKEN_TYPES = [\n",
    "    ('KEYWORD', r'int|float|if|else|while|for|return'),  # Keywords\n",
    "    ('IDENTIFIER', r'[a-zA-Z_]\\w*'),  # Identifiers\n",
    "    ('NUMBER', r'\\d+(\\.\\d+)?'),  # Numbers\n",
    "    ('OPERATOR', r'\\+|\\-|\\*|\\/|\\=\\=|\\!|\\=|\\<|\\>'),  # Operators\n",
    "    ('special characters', r'\\(|\\)|\\{|\\}|\\;|\\,'),  # Separators\n",
    "]\n",
    "\n",
    "# Function to perform lexical analysis\n",
    "def lex(input_code):\n",
    "    tokens = []\n",
    "\n",
    "    while input_code:\n",
    "        match = None\n",
    "\n",
    "        for token_type, pattern in TOKEN_TYPES:\n",
    "            regex = re.compile(pattern)\n",
    "            match = regex.match(input_code)\n",
    "\n",
    "            if match:\n",
    "                value = match.group(0)\n",
    "                tokens.append((token_type, value))\n",
    "                input_code = input_code[len(value):].lstrip()\n",
    "                break\n",
    "\n",
    "        if not match:\n",
    "            print(\"Invalid character found: \" + input_code[0])\n",
    "            return None\n",
    "\n",
    "    return tokens\n",
    "\n",
    "# Example usage\n",
    "source_code = input(\"Enter a code snippet: \")\n",
    "tokens = lex(source_code)\n",
    "\n",
    "if tokens:\n",
    "    print(\"Tokens:\")\n",
    "    for token in tokens:\n",
    "        print(token)"
   ]
  },
  {
   "cell_type": "code",
   "execution_count": null,
   "id": "65054ac5",
   "metadata": {},
   "outputs": [],
   "source": []
  },
  {
   "cell_type": "code",
   "execution_count": null,
   "id": "02bdf6b5",
   "metadata": {},
   "outputs": [],
   "source": []
  }
 ],
 "metadata": {
  "kernelspec": {
   "display_name": "Python 3 (ipykernel)",
   "language": "python",
   "name": "python3"
  },
  "language_info": {
   "codemirror_mode": {
    "name": "ipython",
    "version": 3
   },
   "file_extension": ".py",
   "mimetype": "text/x-python",
   "name": "python",
   "nbconvert_exporter": "python",
   "pygments_lexer": "ipython3",
   "version": "3.9.13"
  }
 },
 "nbformat": 4,
 "nbformat_minor": 5
}
